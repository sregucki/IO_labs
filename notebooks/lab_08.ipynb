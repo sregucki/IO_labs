{
 "cells": [
  {
   "cell_type": "markdown",
   "metadata": {},
   "source": [
    "# Lab_08, Logika rozmyta"
   ]
  },
  {
   "cell_type": "markdown",
   "metadata": {},
   "source": [
    "## Zad 01"
   ]
  },
  {
   "cell_type": "code",
   "execution_count": null,
   "metadata": {},
   "outputs": [],
   "source": [
    "import numpy as np\n",
    "import skfuzzy as fuzz\n",
    "from skfuzzy import control as ctrl\n",
    "\n",
    "# Zmienne lingwistyczne\n",
    "quality = ctrl.Antecedent(np.arange(0, 11, 1), \"quality\")\n",
    "service = ctrl.Antecedent(np.arange(0, 11, 1), \"service\")\n",
    "tip = ctrl.Consequent(np.arange(0, 26, 1), \"tip\")\n",
    "\n",
    "quality.automf(3)\n",
    "service.automf(3)\n",
    "\n",
    "tip[\"low\"] = fuzz.trimf(tip.universe, [0, 0, 13])\n",
    "tip[\"medium\"] = fuzz.trimf(tip.universe, [0, 13, 25])\n",
    "tip[\"high\"] = fuzz.trimf(tip.universe, [13, 25, 25])\n",
    "\n",
    "quality[\"average\"].view()\n",
    "service.view()\n",
    "tip.view()"
   ]
  },
  {
   "cell_type": "code",
   "execution_count": null,
   "metadata": {},
   "outputs": [],
   "source": [
    "# reguły\n",
    "\n",
    "rule1 = ctrl.Rule(quality[\"poor\"] | service[\"poor\"], tip[\"low\"])\n",
    "rule2 = ctrl.Rule(service[\"average\"], tip[\"medium\"])\n",
    "rule3 = ctrl.Rule(service[\"good\"] | quality[\"good\"], tip[\"high\"])\n",
    "\n",
    "rule1.view()"
   ]
  },
  {
   "cell_type": "code",
   "execution_count": null,
   "metadata": {},
   "outputs": [],
   "source": [
    "tipping_ctrl = ctrl.ControlSystem([rule1, rule2, rule3])\n",
    "tipping = ctrl.ControlSystemSimulation(tipping_ctrl)\n",
    "\n",
    "tipping.input[\"quality\"] = 6.5\n",
    "tipping.input[\"service\"] = 9.8\n",
    "\n",
    "tipping.compute()\n",
    "\n",
    "print(f\"Tipping: {tipping.output['tip']}\")\n",
    "tip.view(sim=tipping)"
   ]
  },
  {
   "cell_type": "markdown",
   "metadata": {},
   "source": [
    "## Zad 02"
   ]
  },
  {
   "cell_type": "code",
   "execution_count": null,
   "metadata": {},
   "outputs": [],
   "source": [
    "# d) wczytanie modelu z pliku\n",
    "import os\n",
    "import shutil\n",
    "from gan.gan07 import train, define_discriminator, define_gan, load_real_samples\n",
    "from keras.models import load_model\n",
    "\n",
    "g_model = load_model(\"gan/generator_model_005.h5\")\n",
    "d_model = define_discriminator()\n",
    "letent_dim = 100\n",
    "gan_model = define_gan(g_model, d_model)\n",
    "dataset = load_real_samples()\n",
    "n_epochs = 5\n",
    "batch_size = 256\n",
    "\n",
    "train(g_model, d_model, gan_model, dataset, letent_dim, n_epochs, batch_size)\n",
    "\n",
    "# move all generated files to \"generated\" folder\n",
    "if not os.path.exists(\"generated\"):\n",
    "    os.makedirs(\"generated\")\n",
    "\n",
    "for file in os.listdir(\".\"):\n",
    "    if file.endswith(\".png\"):\n",
    "        shutil.move(file, \"generated\")\n",
    "    if file.endswith(\".h5\"):\n",
    "        shutil.move(file, \"generated\")"
   ]
  },
  {
   "cell_type": "code",
   "execution_count": null,
   "metadata": {},
   "outputs": [],
   "source": [
    "# e) train model with bigger number of epochs (50)\n",
    "n_epochs = 50\n",
    "train(g_model, d_model, gan_model, dataset, letent_dim, n_epochs, batch_size)"
   ]
  },
  {
   "cell_type": "markdown",
   "metadata": {},
   "source": [
    "## Zad 03"
   ]
  },
  {
   "cell_type": "code",
   "execution_count": null,
   "metadata": {
    "vscode": {
     "languageId": "shellscript"
    }
   },
   "outputs": [],
   "source": [
    "%run rnn/lstm01.py"
   ]
  },
  {
   "cell_type": "code",
   "execution_count": null,
   "metadata": {
    "vscode": {
     "languageId": "shellscript"
    }
   },
   "outputs": [],
   "source": [
    "%run rnn/lstm02.py"
   ]
  },
  {
   "cell_type": "code",
   "execution_count": null,
   "metadata": {
    "vscode": {
     "languageId": "shellscript"
    }
   },
   "outputs": [],
   "source": [
    "%run rnn/lstm03.py"
   ]
  },
  {
   "cell_type": "code",
   "execution_count": null,
   "metadata": {
    "vscode": {
     "languageId": "shellscript"
    }
   },
   "outputs": [],
   "source": [
    "%run rnn/lstm04.py"
   ]
  },
  {
   "cell_type": "code",
   "execution_count": null,
   "metadata": {
    "vscode": {
     "languageId": "shellscript"
    }
   },
   "outputs": [],
   "source": [
    "%run rnn/rnn01.py"
   ]
  },
  {
   "cell_type": "code",
   "execution_count": null,
   "metadata": {
    "vscode": {
     "languageId": "shellscript"
    }
   },
   "outputs": [],
   "source": [
    "%run rnn/rnn02.py"
   ]
  },
  {
   "cell_type": "code",
   "execution_count": null,
   "metadata": {
    "vscode": {
     "languageId": "shellscript"
    }
   },
   "outputs": [],
   "source": [
    "%run rnn/rnn03.py"
   ]
  },
  {
   "cell_type": "markdown",
   "metadata": {},
   "source": [
    "## Zadanie 04"
   ]
  },
  {
   "cell_type": "code",
   "execution_count": null,
   "metadata": {},
   "outputs": [],
   "source": [
    "from diffusers import StableDiffusionPipeline\n",
    "import torch\n",
    "\n",
    "# stable-diffusion-v1-5\n",
    "# wytrenowany na obrazach 512x512 z bazy LAION-5B\n",
    "# Hardware: 32 x 8 x A100 GPUs\n",
    "# Optimizer: AdamW\n",
    "# Gradient Accumulations: 2\n",
    "# Batch: 32 x 8 x 2 x 4 = 2048 \n",
    "# Learning rate: warmup to 0.0001 for 10,000 steps and then kept constant\n",
    "# Hardware Type: A100 PCIe 40GB\n",
    "# Wagi: 4,72GB\n",
    "\n",
    "model_id = \"runwayml/stable-diffusion-v1-5\"\n",
    "pipe = StableDiffusionPipeline.from_pretrained(model_id, torch_dtype=torch.float16)\n",
    "pipe = pipe.to(\"cuda\")\n",
    "\n",
    "prompt = \"a photo of an astronaut riding a horse on mars\"\n",
    "image = pipe(prompt).images[0]\n",
    "\n",
    "image.save(\"astronaut_rides_horse.png\")"
   ]
  }
 ],
 "metadata": {
  "kernelspec": {
   "display_name": ".venv",
   "language": "python",
   "name": "python3"
  },
  "language_info": {
   "codemirror_mode": {
    "name": "ipython",
    "version": 3
   },
   "file_extension": ".py",
   "mimetype": "text/x-python",
   "name": "python",
   "nbconvert_exporter": "python",
   "pygments_lexer": "ipython3",
   "version": "3.11.6"
  }
 },
 "nbformat": 4,
 "nbformat_minor": 2
}
